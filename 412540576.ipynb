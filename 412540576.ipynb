{
  "nbformat": 4,
  "nbformat_minor": 0,
  "metadata": {
    "colab": {
      "provenance": [],
      "authorship_tag": "ABX9TyOxqAaO2npz9FbIKbeffkz4",
      "include_colab_link": true
    },
    "kernelspec": {
      "name": "python3",
      "display_name": "Python 3"
    },
    "language_info": {
      "name": "python"
    }
  },
  "cells": [
    {
      "cell_type": "markdown",
      "metadata": {
        "id": "view-in-github",
        "colab_type": "text"
      },
      "source": [
        "<a href=\"https://colab.research.google.com/github/wwying123456/introduction-computers-2/blob/main/412540576.ipynb\" target=\"_parent\"><img src=\"https://colab.research.google.com/assets/colab-badge.svg\" alt=\"Open In Colab\"/></a>"
      ]
    },
    {
      "cell_type": "code",
      "execution_count": 24,
      "metadata": {
        "colab": {
          "base_uri": "https://localhost:8080/"
        },
        "id": "hRKNGZQll6Jc",
        "outputId": "26975cc6-15ff-4f0f-dd7f-eb87702d5787"
      },
      "outputs": [
        {
          "output_type": "stream",
          "name": "stdout",
          "text": [
            "請輸入體溫:39.6\n",
            "體溫過高!\n"
          ]
        }
      ],
      "source": [
        "a=float(input('請輸入體溫:'))\n",
        "if(a<34):\n",
        "  print('體溫異常,請重新量測!')\n",
        "elif(34<=a<=36.9):\n",
        "  print('體溫正常!')\n",
        "elif(37<=a<=37.4):\n",
        "  print('體溫略高!')\n",
        "elif(a>=37.5):\n",
        "  print('體溫過高!')\n",
        "else:\n",
        "  print('c')"
      ]
    },
    {
      "cell_type": "code",
      "source": [
        "score=input('請輸入成績:')\n",
        "if(int(score)>=90):\n",
        "  print('A')\n",
        "elif(int(score)>=80):\n",
        "  print('B')\n",
        "elif(int(score)>=70):\n",
        "  print('C')\n",
        "elif(int(score)>=60):\n",
        "  print('D')\n",
        "else:\n",
        "  print('F')"
      ],
      "metadata": {
        "colab": {
          "base_uri": "https://localhost:8080/"
        },
        "id": "6cFZAKFjnLEy",
        "outputId": "c5a874ea-7c07-4394-ac7e-16bf0e68d216"
      },
      "execution_count": 2,
      "outputs": [
        {
          "output_type": "stream",
          "name": "stdout",
          "text": [
            "請輸入成績:90\n",
            "A\n"
          ]
        }
      ]
    },
    {
      "cell_type": "code",
      "source": [
        "month=int(input('請輸入月份:'))\n",
        "if(month>=1and month <=12):\n",
        "  if(month==1 or month==2 or month==3):\n",
        "    print('{}月是春天'.format(month))\n",
        "  elif(month==4 or month==5 or month==6):\n",
        "    print('{}月是夏天'.format(month))\n",
        "  elif(month==7 or month==8 or month==9):\n",
        "    print('{}月是秋天'.format(month))\n",
        "  else:\n",
        "    print('{}月是冬天'.format(month))\n",
        "else:\n",
        "    print('月份不在範圍內')"
      ],
      "metadata": {
        "colab": {
          "base_uri": "https://localhost:8080/"
        },
        "id": "4s7tvpiRnLO5",
        "outputId": "ad88bd6a-2c1c-47d3-e83f-6ba0f6bfa93b"
      },
      "execution_count": 6,
      "outputs": [
        {
          "output_type": "stream",
          "name": "stdout",
          "text": [
            "請輸入月份:5\n",
            "5月是夏天\n"
          ]
        }
      ]
    }
  ]
}